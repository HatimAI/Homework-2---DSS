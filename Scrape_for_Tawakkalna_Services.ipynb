{
  "nbformat": 4,
  "nbformat_minor": 0,
  "metadata": {
    "colab": {
      "provenance": [],
      "toc_visible": true
    },
    "kernelspec": {
      "name": "python3",
      "display_name": "Python 3"
    },
    "language_info": {
      "name": "python"
    }
  },
  "cells": [
    {
      "cell_type": "code",
      "execution_count": null,
      "metadata": {
        "id": "Mm9znWG2fMkH"
      },
      "outputs": [],
      "source": [
        "!pip install google-play-scraper\n",
        "!pip install -q transformers\n",
        "!pip install -q plotly-express"
      ]
    },
    {
      "cell_type": "code",
      "source": [
        "import pandas as pd\n",
        "import numpy as np\n",
        "from google_play_scraper import app, Sort, reviews_all\n",
        "import plotly.express as px\n",
        "import tensorflow as tf"
      ],
      "metadata": {
        "id": "G7EvjJlQfrO3"
      },
      "execution_count": null,
      "outputs": []
    },
    {
      "cell_type": "code",
      "source": [
        "gp_project = reviews_all('sa.gov.nic.twkhayat', sleep_milliseconds=0, lang='en', country='SA', sort=Sort.NEWEST)\n",
        "df_reviews = pd.DataFrame(np.array(gp_project), columns=['review'])\n",
        "df_reviews = df_reviews.join(pd.DataFrame(df_reviews.pop('review').tolist()))\n",
        "df_reviews.head()"
      ],
      "metadata": {
        "id": "sDlXYDisfrxe"
      },
      "execution_count": null,
      "outputs": []
    },
    {
      "cell_type": "code",
      "source": [
        "df = pd.json_normalize(gp_project)"
      ],
      "metadata": {
        "id": "KF43okz2fzW6"
      },
      "execution_count": null,
      "outputs": []
    },
    {
      "cell_type": "code",
      "source": [
        "from transformers import pipeline\n",
        "sentiment_analysis = pipeline(\"sentiment-analysis\",model=\"siebert/sentiment-roberta-large-english\")"
      ],
      "metadata": {
        "id": "E0kCHNDFf4C-"
      },
      "execution_count": null,
      "outputs": []
    },
    {
      "cell_type": "code",
      "source": [
        "df['content'] = df['content'].astype('str')"
      ],
      "metadata": {
        "id": "j6Gq7rFef_3V"
      },
      "execution_count": null,
      "outputs": []
    },
    {
      "cell_type": "code",
      "source": [
        "df['result'] = df['content'].apply(lambda x: sentiment_analysis(x))"
      ],
      "metadata": {
        "id": "8w1DJ9fVgShb"
      },
      "execution_count": null,
      "outputs": []
    },
    {
      "cell_type": "code",
      "source": [
        "df['Sentiment'] = df['result'].apply(lambda x: (x[0]['label']))\n",
        "df['Sentiment Score'] = df['result'].apply(lambda x: (x[0]['score']))"
      ],
      "metadata": {
        "id": "YjbNv09KnuuJ"
      },
      "execution_count": null,
      "outputs": []
    },
    {
      "cell_type": "code",
      "source": [
        "import pandas as pd\n",
        "import re\n",
        "\n",
        "OnlyEnglish_regex = re.compile(r'[\\u0600-\\u06FF\\u0900-\\u097F\\u0980-\\u09FF\\u0C00-\\u0C7F\\u0B00-\\u0B7F]')\n",
        "\n",
        "OnlyEnglish_rows = df[df['content'].str.contains(OnlyEnglish_regex)]\n",
        "\n",
        "df = df.drop(OnlyEnglish_rows.index)\n",
        "\n",
        "df = df.loc[:, ['reviewId', 'userName', 'content', 'score', 'thumbsUpCount', 'at', 'appVersion', 'Sentiment', 'Sentiment Score']]\n",
        "\n",
        "df.to_csv('GooglePlayReviews.csv', index=False)"
      ],
      "metadata": {
        "id": "iSj-s0qCn1uA"
      },
      "execution_count": null,
      "outputs": []
    },
    {
      "cell_type": "code",
      "source": [
        "df.head()"
      ],
      "metadata": {
        "id": "IlfCzDnEgZi8"
      },
      "execution_count": null,
      "outputs": []
    },
    {
      "cell_type": "code",
      "source": [
        "df.head()"
      ],
      "metadata": {
        "id": "t8IQqP_1nxNb"
      },
      "execution_count": null,
      "outputs": []
    },
    {
      "cell_type": "code",
      "source": [],
      "metadata": {
        "id": "zw88AIgHn_C6"
      },
      "execution_count": null,
      "outputs": []
    }
  ]
}